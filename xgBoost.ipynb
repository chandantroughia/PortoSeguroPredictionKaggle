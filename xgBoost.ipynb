{
 "cells": [
  {
   "cell_type": "markdown",
   "metadata": {},
   "source": [
    "# xgBoost Classifier"
   ]
  },
  {
   "cell_type": "code",
   "execution_count": 16,
   "metadata": {},
   "outputs": [],
   "source": [
    "import pandas as pd\n",
    "from sklearn.metrics import accuracy_score\n",
    "from xgboost import XGBClassifier\n",
    "\n",
    "\n",
    "\n",
    "train = pd.read_csv(\"train.csv\")\n",
    "test = pd.read_csv(\"test.csv\")\n",
    "\n",
    "all_ids = test['id']\n",
    "main_test = test.drop(['id'], axis = 1)"
   ]
  },
  {
   "cell_type": "markdown",
   "metadata": {},
   "source": [
    " ## Validation Dataset - split the data in test and train"
   ]
  },
  {
   "cell_type": "code",
   "execution_count": 17,
   "metadata": {},
   "outputs": [],
   "source": [
    "x_train = train[:400000]\n",
    "xx = x_train.drop(['id','target'], axis = 1)\n",
    "yy = x_train['target']\n",
    "#Remove 'target' from the test data set\n",
    "Y_test = train[400000:]\n",
    "Y_test = Y_test.drop(['target'], axis = 1)"
   ]
  },
  {
   "cell_type": "markdown",
   "metadata": {},
   "source": [
    "## The Code in this cell is only for the purpose of testing the prediction accuracy of the model\n",
    "\n",
    "### Used the section below to get the idea about the prediction accuracy of the xgBoost, I divided the train data set into two sections to do so."
   ]
  },
  {
   "cell_type": "code",
   "execution_count": 18,
   "metadata": {},
   "outputs": [
    {
     "name": "stdout",
     "output_type": "stream",
     "text": [
      "The Accuracy of xgBoost:  0.963470483372\n"
     ]
    }
   ],
   "source": [
    "clf = XGBClassifier()\n",
    "clf.fit(xx, yy)\n",
    "\n",
    "samplePredictions = clf.predict(Y_test.drop(['id'], axis = 1))\n",
    "predictions1 = [round(value) for value in samplePredictions]\n",
    "\n",
    "#Compare with the actual target in the test data\n",
    "Y_test = train[400000:]\n",
    "y_true = Y_test['target']\n",
    "print(\"The Accuracy of xgBoost: \", accuracy_score(y_true, predictions1))"
   ]
  },
  {
   "cell_type": "markdown",
   "metadata": {},
   "source": [
    "## Actual Analysis on the provided test data"
   ]
  },
  {
   "cell_type": "code",
   "execution_count": 19,
   "metadata": {},
   "outputs": [],
   "source": [
    "#The Code below is the actual predictions on the test data provided.\n",
    "X = train.drop(['id','target'], axis = 1)\n",
    "Y = train['target']\n",
    "\n",
    "clf = XGBClassifier()\n",
    "clf.fit(X, Y)\n",
    "\n",
    "\n",
    "xgBPredictions = clf.predict(test.drop(['id'], axis = 1))\n",
    "predictions = [round(value) for value in xgBPredictions]\n",
    "\n",
    "#save to submission file as required\n",
    "test['target'] = predictions\n",
    "submission = test.loc[:,['id', 'target']]\n",
    "submission.columns = ['id', 'target']\n",
    "#submission.to_csv('xgBPredictions.csv', index=False)  #--> Creating the submission file"
   ]
  },
  {
   "cell_type": "code",
   "execution_count": null,
   "metadata": {},
   "outputs": [],
   "source": []
  }
 ],
 "metadata": {
  "kernelspec": {
   "display_name": "Python (whatever you want to call it)",
   "language": "python",
   "name": "envname"
  },
  "language_info": {
   "codemirror_mode": {
    "name": "ipython",
    "version": 3
   },
   "file_extension": ".py",
   "mimetype": "text/x-python",
   "name": "python",
   "nbconvert_exporter": "python",
   "pygments_lexer": "ipython3",
   "version": "3.6.1"
  }
 },
 "nbformat": 4,
 "nbformat_minor": 2
}
