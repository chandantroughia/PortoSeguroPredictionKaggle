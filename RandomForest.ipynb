{
 "cells": [
  {
   "cell_type": "markdown",
   "metadata": {},
   "source": [
    "# Random Forest Classifier"
   ]
  },
  {
   "cell_type": "code",
   "execution_count": 8,
   "metadata": {},
   "outputs": [],
   "source": [
    "import pandas as pd\n",
    "from sklearn.metrics import accuracy_score\n",
    "from sklearn.ensemble import RandomForestClassifier\n",
    "\n",
    "\n",
    "train = pd.read_csv(\"train.csv\")\n",
    "test = pd.read_csv(\"test.csv\")"
   ]
  },
  {
   "cell_type": "markdown",
   "metadata": {},
   "source": [
    "## The Code in this cell is on ly for the purpose of testing the prediction accuracy of the model\n",
    "\n",
    "### Used the section below to get the idea about the prediction accuracy of the RF, I divided the train data set into two sections to do so."
   ]
  },
  {
   "cell_type": "code",
   "execution_count": 9,
   "metadata": {},
   "outputs": [
    {
     "name": "stdout",
     "output_type": "stream",
     "text": [
      "The Accuracy of Random Forest Classifier:  0.963434624921\n"
     ]
    }
   ],
   "source": [
    "#RF Classifier\n",
    "\n",
    "#Used the below commented out section to get the idea about the prediction accuracy of the RF\n",
    "#I divided the train data set into two sections to do so.\n",
    "\n",
    "x_train = train[:400000]\n",
    "xx = x_train.drop(['id','target'], axis = 1)\n",
    "yy = x_train['target']\n",
    "#Remove 'target' from the test data set\n",
    "Y_test = train[400000:]\n",
    "Y_test = Y_test.drop(['target'], axis = 1)\n",
    "\n",
    "clf = RandomForestClassifier(n_jobs=10, random_state=0)\n",
    "clf.fit(xx, yy)\n",
    "\n",
    "samplePredictions = clf.predict(Y_test.drop(['id'], axis = 1))\n",
    "#Compare with the actual target in the test data\n",
    "Y_test = train[400000:]\n",
    "y_true = Y_test['target']\n",
    "print(\"The Accuracy of Random Forest Classifier: \", accuracy_score(y_true, samplePredictions))"
   ]
  },
  {
   "cell_type": "markdown",
   "metadata": {},
   "source": [
    "## Actual Analysis on the provided test data"
   ]
  },
  {
   "cell_type": "code",
   "execution_count": 10,
   "metadata": {},
   "outputs": [],
   "source": [
    "#Actual analysis\n",
    "X = train.drop(['id','target'], axis = 1)\n",
    "Y = train['target']\n",
    "\n",
    "clf = RandomForestClassifier(n_jobs=10, random_state=0)\n",
    "clf.fit(X, Y)\n",
    "\n",
    "RFPredictions = clf.predict(test.drop(['id'], axis = 1))\n",
    "\n",
    "#save to submission file as required\n",
    "test['target'] = RFPredictions\n",
    "submission = test.loc[:,['id', 'target']]\n",
    "submission.columns = ['id', 'target']\n",
    "#submission.to_csv('RFPredictions.csv', index=False)  #--> Creating the submission file"
   ]
  }
 ],
 "metadata": {
  "kernelspec": {
   "display_name": "Python (whatever you want to call it)",
   "language": "python",
   "name": "envname"
  },
  "language_info": {
   "codemirror_mode": {
    "name": "ipython",
    "version": 3
   },
   "file_extension": ".py",
   "mimetype": "text/x-python",
   "name": "python",
   "nbconvert_exporter": "python",
   "pygments_lexer": "ipython3",
   "version": "3.6.1"
  }
 },
 "nbformat": 4,
 "nbformat_minor": 2
}
